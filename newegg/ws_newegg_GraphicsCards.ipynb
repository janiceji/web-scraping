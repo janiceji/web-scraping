{
 "cells": [
  {
   "cell_type": "code",
   "execution_count": 1,
   "metadata": {},
   "outputs": [],
   "source": [
    "import bs4\n",
    "from urllib.request import urlopen as uReq\n",
    "from bs4 import BeautifulSoup as soup"
   ]
  },
  {
   "cell_type": "code",
   "execution_count": 2,
   "metadata": {},
   "outputs": [],
   "source": [
    "my_url = 'https://www.newegg.com/p/pl?d=graphics+cards'\n",
    "uClient = uReq(my_url)\n",
    "page_html = uClient.read()"
   ]
  },
  {
   "cell_type": "code",
   "execution_count": 3,
   "metadata": {},
   "outputs": [],
   "source": [
    "uClient.close()"
   ]
  },
  {
   "cell_type": "code",
   "execution_count": 4,
   "metadata": {},
   "outputs": [],
   "source": [
    "page_soup = soup(page_html, 'html.parser')"
   ]
  },
  {
   "cell_type": "code",
   "execution_count": 5,
   "metadata": {},
   "outputs": [
    {
     "data": {
      "text/plain": [
       "<h1 class=\"page-title-text\">\"graphics cards\"</h1>"
      ]
     },
     "execution_count": 5,
     "metadata": {},
     "output_type": "execute_result"
    }
   ],
   "source": [
    "page_soup.h1"
   ]
  },
  {
   "cell_type": "code",
   "execution_count": 6,
   "metadata": {},
   "outputs": [
    {
     "data": {
      "text/plain": [
       "<p class=\"speech-note\" data-id=\"article_tool_usa_graphics_card\" id=\"shoppingTool\">Our <a href=\"https://www.newegg.com/insider/how-to-choose-graphics-card/?cm_sp=Tools-_-INFOCARD-_-graphics%20cards-_-article_tool_usa_graphics_card-_-1\">graphics card buying guide</a> explains the basics of the GPU.</p>"
      ]
     },
     "execution_count": 6,
     "metadata": {},
     "output_type": "execute_result"
    }
   ],
   "source": [
    "page_soup.p"
   ]
  },
  {
   "cell_type": "code",
   "execution_count": 7,
   "metadata": {},
   "outputs": [],
   "source": [
    "containers = page_soup.findAll(\"div\", {\"class\": \"item-info\"})"
   ]
  },
  {
   "cell_type": "code",
   "execution_count": 8,
   "metadata": {},
   "outputs": [
    {
     "data": {
      "text/plain": [
       "37"
      ]
     },
     "execution_count": 8,
     "metadata": {},
     "output_type": "execute_result"
    }
   ],
   "source": [
    "len(containers)"
   ]
  },
  {
   "cell_type": "code",
   "execution_count": 9,
   "metadata": {},
   "outputs": [],
   "source": [
    "container = containers[0]"
   ]
  },
  {
   "cell_type": "code",
   "execution_count": 10,
   "metadata": {},
   "outputs": [
    {
     "data": {
      "text/plain": [
       "<div class=\"item-info\"><div class=\"item-branding\"><a class=\"item-brand\" href=\"https://www.newegg.com/GIGABYTE/BrandStore/ID-1314\"><img alt=\"GIGABYTE\" src=\"https://c1.neweggimages.com/Brandimage_70x28/Brand1314.gif\" title=\"GIGABYTE\"/></a><a class=\"item-rating\" href=\"https://www.newegg.com/gigabyte-geforce-gt-1030-gv-n1030oc-2gi/p/N82E16814932004?IsFeedbackTab=true#scrollFullInfo\" title=\"Rating + 4\"><i class=\"rating rating-4\"></i><span class=\"item-rating-num\">(43)</span></a></div><a class=\"item-title\" href=\"https://www.newegg.com/gigabyte-geforce-gt-1030-gv-n1030oc-2gi/p/N82E16814932004?Description=graphics cards&amp;cm_re=graphics_cards-_-14-932-004-_-Product\" title=\"View Details\">GIGABYTE GeForce GT 1030 DirectX 12 GV-N1030OC-2GI 2GB 64-Bit GDDR5 PCI Express x16 Video Card</a><ul class=\"item-features\"><li><strong>Core Clock:</strong> 1290 MHz in OC Mode\n",
       "1265 MHz in Gaming Mode</li><li><strong>Max Resolution:</strong> 4096 x 2160</li><li><strong>DVI:</strong> 1 x DVI-D</li><li><strong>HDMI:</strong> 1 x HDMI 2.0b</li><li><strong>Model #: </strong>GV-N1030OC-2GI</li><li><strong>Item #: </strong>N82E16814932004</li><li><strong>Return Policy: </strong><a href=\"https://kb.newegg.com/Article/Index/12/3?id=1167#53\" target=\"_blank\" title=\"Extended Holiday Return Policy(New Window)\">Extended Holiday Return Policy</a></li></ul></div>"
      ]
     },
     "execution_count": 10,
     "metadata": {},
     "output_type": "execute_result"
    }
   ],
   "source": [
    "container"
   ]
  },
  {
   "cell_type": "code",
   "execution_count": 11,
   "metadata": {},
   "outputs": [
    {
     "data": {
      "text/plain": [
       "'GIGABYTE GeForce GT 1030 DirectX 12 GV-N1030OC-2GI 2GB 64-Bit GDDR5 PCI Express x16 Video Card'"
      ]
     },
     "execution_count": 11,
     "metadata": {},
     "output_type": "execute_result"
    }
   ],
   "source": [
    "container.findAll(\"a\", {\"class\": \"item-title\"})[0].text"
   ]
  },
  {
   "cell_type": "code",
   "execution_count": 12,
   "metadata": {},
   "outputs": [],
   "source": [
    "container2 = containers[1]"
   ]
  },
  {
   "cell_type": "code",
   "execution_count": 13,
   "metadata": {},
   "outputs": [
    {
     "data": {
      "text/plain": [
       "'GIGABYTE Radeon RX 570 DirectX 12 GV-RX570GAMING-8GD Rev 2.0 8GB 256-Bit GDDR5 PCI Express 3.0 x16 CrossFireX Support ATX Video Card'"
      ]
     },
     "execution_count": 13,
     "metadata": {},
     "output_type": "execute_result"
    }
   ],
   "source": [
    "container2.findAll(\"a\", {\"class\": \"item-title\"})[0].text"
   ]
  },
  {
   "cell_type": "code",
   "execution_count": 14,
   "metadata": {},
   "outputs": [],
   "source": [
    "# Scrape the product name\n",
    "product_name =[]\n",
    "for container in containers:\n",
    "    product_name.append(container.findAll(\"a\", {\"class\": \"item-title\"})[0].text)"
   ]
  },
  {
   "cell_type": "code",
   "execution_count": 15,
   "metadata": {},
   "outputs": [
    {
     "data": {
      "text/plain": [
       "['GIGABYTE GeForce GT 1030 DirectX 12 GV-N1030OC-2GI 2GB 64-Bit GDDR5 PCI Express x16 Video Card',\n",
       " 'GIGABYTE Radeon RX 570 DirectX 12 GV-RX570GAMING-8GD Rev 2.0 8GB 256-Bit GDDR5 PCI Express 3.0 x16 CrossFireX Support ATX Video Card',\n",
       " 'ASUS ROG Strix Radeon RX 570 DirectX 12 ROG-STRIX-RX570-O8G-GAMING 8GB 256-Bit GDDR5 PCI Express 3.0 HDCP Ready Video Card',\n",
       " 'GIGABYTE Radeon RX 580 GAMING 8G (rev. 2.0) Graphics Card, PCIe 3.0, 8GB 256-Bit GDDR5, GV-RX580GAMING-8GD REV2.0 Video Card',\n",
       " 'MSI GeForce GTX 1660 SUPER DirectX 12 GTX 1660 SUPER GAMING X 6GB 192-Bit GDDR6 PCI Express 3.0 x16 HDCP Ready Video Card',\n",
       " 'MSI GeForce GTX 1660 SUPER DirectX 12 GTX 1660 SUPER VENTUS XS OC 6GB 192-Bit GDDR6 PCI Express 3.0 x16 HDCP Ready Video Card',\n",
       " 'MSI GeForce GT 1030 DirectX 12 GT 1030 2G LP OC 2GB 64-Bit GDDR5 PCI Express 3.0 x16 (uses x4) HDCP Ready Low Profile Video Card',\n",
       " 'ASUS ROG STRIX GeForce RTX 2060 SUPER ROG-STRIX-RTX2060S-A8G-EVO-V2-GAMING 8GB 256-Bit GDDR6 PCI Express 3.0 HDCP Ready Video Card',\n",
       " 'GIGABYTE GeForce RTX 2070 SUPER DirectX 12 GV-N207SWF3-8GC 8GB 256-Bit GDDR6 PCI Express 3.0 x16 SLI Support ATX Video Card',\n",
       " 'MSI GeForce GTX 1650 SUPER DirectX 12 GTX 1650 Super Gaming X 4GB 128-Bit GDDR6 PCI Express 3.0 x16 HDCP Ready Video Card',\n",
       " 'Coloful GTX950-Twin-2GD5 Graphics Card 128bit 6600MHZ GDDR5 Second- hand',\n",
       " 'MSI GeForce GT 710 DirectX 12 GT 710 1GD3H LP 1GB 64-Bit DDR3 PCI Express 2.0 x16 HDCP Ready Low Profile Video Card',\n",
       " 'GIGABYTE GeForce GTX 1660 SUPER DirectX 12 GV-N166SGAMING OC-6GD 6GB 192-Bit GDDR6 PCI Express 3.0 x16 ATX Video Card',\n",
       " 'ASUS TUF Gaming GeForce GTX 1660 SUPER Overclocked 6GB Edition HDMI DP DVI Gaming Graphics Card (TUF-GTX1660S-O6G-GAMING)',\n",
       " 'ASUS ROG STRIX GeForce RTX 2060 DirectX 12 ROG-STRIX-RTX2060-A6G-GAMING 6GB 192-Bit GDDR6 PCI Express 3.0 HDCP Ready Video Card',\n",
       " 'MSI GeForce GTX 1050 Ti DirectX 12 GTX 1050 Ti GAMING X 4G 4GB 128-Bit GDDR5 PCI Express 3.0 x16 HDCP Ready ATX Video Card',\n",
       " 'ASUS Turbo GeForce RTX 2080 SUPER TURBO-RTX2080S-8G-EVO 8GB 256-Bit GDDR6 PCI Express 3.0 HDCP Ready SLI Support Video Card',\n",
       " 'EVGA 200 GeForce 210 DirectX 10.1 01G-P3-1312-LR 1GB 64-Bit DDR3 PCI Express 2.0 x16 HDCP Ready Low Profile Video Card',\n",
       " 'GIGABYTE GeForce GTX 1660 Ti OC 6G Graphics Card, 2 x WINDFORCE Fans, 6GB 192-Bit GDDR6, GV-N166TOC-6GD Video Card',\n",
       " 'ASUS ROG STRIX GeForce RTX 2060 DirectX 12 ROG-STRIX-RTX2060-O6G-EVO-GAMING 6GB 192-Bit GDDR6 PCI Express 3.0 HDCP Ready Video Card',\n",
       " 'MSI Radeon RX 580 DirectX 12 RX 580 ARMOR 8G OC 8GB 256-Bit GDDR5 PCI Express x16 HDCP Ready CrossFireX Support Video Card',\n",
       " 'GIGABYTE GeForce RTX 2060 SUPER GAMING OC 3X 8G Graphics Card, 3 x WINDFORCE Fans, 8GB 256-Bit GDDR6, GV-N206SGAMING OC-8GD Video Card',\n",
       " 'ASUS TUF Gaming GeForce RTX 3070 DirectX 12 TUF-RTX3070-O8G-GAMING 8GB 256-Bit GDDR6 PCI Express 4.0 HDCP Ready Video Card',\n",
       " 'ASUS ROG STRIX GeForce RTX 2060 SUPER DirectX 12 ROG-STRIX-RTX2060S-A8G-GAMING 8GB 256-Bit GDDR6 PCI Express 3.0 HDCP Ready Video Card',\n",
       " 'GIGABYTE AORUS GeForce RTX 2060 Super 8G Graphics Card, WINDFORCE Stack, 8GB 256-Bit GDDR6, GV-N206SAORUS-8GC Video Card',\n",
       " 'EVGA GeForce GT 710 DirectX 12 02G-P3-2717-KR 2GB 64-Bit DDR3 PCI Express 2.0 Video Card',\n",
       " 'MSI GeForce RTX 2060 DirectX 12 RTX 2060 VENTUS XS 6G OC 6GB 192-Bit GDDR6 PCI Express 3.0 x16 HDCP Ready Video Card',\n",
       " 'GIGABYTE GeForce RTX 2070 SUPER DirectX 12 GV-N207SWF3-8GD 8GB 256-Bit GDDR6 PCI Express 3.0 x16 SLI Support ATX Video Card',\n",
       " 'GIGABYTE Geforce RTX 2060 OC 6G Graphics Card, 2 x WINDFORCE Fans, 6GB 192-Bit GDDR6, GV-N2060OC-6GD Video Card',\n",
       " 'ASUS Turbo GeForce RTX 2060 SUPER TURBO-RTX2060S-8G-EVO 8GB 256-Bit GDDR6 PCI Express 3.0 HDCP Ready Video Card',\n",
       " 'MSI GeForce GTX 1050 Ti DirectX 12 GTX 1050 Ti 4GT OC 4GB 128-Bit GDDR5 PCI Express 3.0 x16 HDCP Ready ATX Video Card',\n",
       " 'GIGABYTE GeForce RTX 2060 SUPER DirectX 12 GV-N206SWF2-8GD 8GB 256-Bit GDDR6 PCI Express 3.0 x16 ATX Video Card',\n",
       " 'ASUS ROG Strix GeForce RTX 2080 Ti DirectX 12 ROG-STRIX-RTX2080TI-O11G-GAMING 11GB 352-Bit GDDR6 PCI Express 3.0 HDCP Ready SLI Support Video Card',\n",
       " 'EVGA GeForce GTX 1060 GAMING, ACX 2.0 (Single Fan), 03G-P4-6160-KR, 3GB GDDR5, DX12 OSD Support (PXOC), Only 6.8 Inches',\n",
       " 'ASUS ROG Strix GeForce RTX 2080 Ti DirectX 12 ROG-STRIX-RTX2080TI-11G-GAMING 11GB 352-Bit GDDR6 PCI Express 3.0 HDCP Ready SLI Support Video Card',\n",
       " 'GIGABYTE GeForce GT 1030 Low Profile 2GB, GV-N1030D5-2GL',\n",
       " 'GIGABYTE GeForce RTX 2070 Super WINDFORCE OC 3X 8G Graphics Card, 3 x WINDFORCE Fans, 8GB 256-Bit GDDR6, GV-N207SWF3OC-8GD Video Card']"
      ]
     },
     "execution_count": 15,
     "metadata": {},
     "output_type": "execute_result"
    }
   ],
   "source": [
    "product_name"
   ]
  },
  {
   "cell_type": "code",
   "execution_count": 16,
   "metadata": {},
   "outputs": [],
   "source": [
    "shipping_lst = page_soup.findAll(\"li\",{\"class\":\"price-ship\"})"
   ]
  },
  {
   "cell_type": "code",
   "execution_count": 17,
   "metadata": {},
   "outputs": [
    {
     "data": {
      "text/plain": [
       "'$3.99 Shipping'"
      ]
     },
     "execution_count": 17,
     "metadata": {},
     "output_type": "execute_result"
    }
   ],
   "source": [
    "shipping_lst[0].text"
   ]
  },
  {
   "cell_type": "code",
   "execution_count": 18,
   "metadata": {},
   "outputs": [],
   "source": [
    "# Scrape the shipping price\n",
    "shipping_price = []\n",
    "for price in shipping_lst:\n",
    "    shipping_price.append(price.text)"
   ]
  },
  {
   "cell_type": "code",
   "execution_count": 19,
   "metadata": {},
   "outputs": [
    {
     "data": {
      "text/plain": [
       "['$3.99 Shipping',\n",
       " '$3.99 Shipping',\n",
       " '$3.99 Shipping',\n",
       " '$6.99 Shipping',\n",
       " '$45.00 Shipping',\n",
       " 'Free Shipping',\n",
       " '$1.99 Shipping',\n",
       " 'Free Shipping',\n",
       " 'Free Shipping',\n",
       " 'Free Shipping',\n",
       " 'Free Shipping',\n",
       " 'Free Shipping',\n",
       " 'Free Shipping',\n",
       " '$45.00 Shipping',\n",
       " 'Free Shipping',\n",
       " '$6.99 Shipping',\n",
       " 'Free Shipping',\n",
       " 'Free Shipping',\n",
       " 'Free Shipping',\n",
       " 'Free Shipping',\n",
       " 'Free Shipping',\n",
       " '$45.00 Shipping',\n",
       " '',\n",
       " 'Free Shipping',\n",
       " 'Free Shipping',\n",
       " 'Free Shipping',\n",
       " 'Free Shipping',\n",
       " 'Free Shipping',\n",
       " 'Free Shipping',\n",
       " '$45.00 Shipping',\n",
       " 'Free Shipping',\n",
       " 'Free Shipping',\n",
       " '$75.00 Shipping',\n",
       " '$37.00 Shipping',\n",
       " '$75.00 Shipping',\n",
       " '$4.99 Shipping',\n",
       " 'Free Shipping']"
      ]
     },
     "execution_count": 19,
     "metadata": {},
     "output_type": "execute_result"
    }
   ],
   "source": [
    "shipping_price"
   ]
  },
  {
   "cell_type": "code",
   "execution_count": 20,
   "metadata": {},
   "outputs": [],
   "source": [
    "price_container = page_soup.findAll(\"li\",{\"class\":\"price-current\"})"
   ]
  },
  {
   "cell_type": "code",
   "execution_count": 21,
   "metadata": {},
   "outputs": [
    {
     "data": {
      "text/plain": [
       "'88.99'"
      ]
     },
     "execution_count": 21,
     "metadata": {},
     "output_type": "execute_result"
    }
   ],
   "source": [
    "price_container[0].strong.text + price_container[0].sup.text"
   ]
  },
  {
   "cell_type": "code",
   "execution_count": 22,
   "metadata": {},
   "outputs": [],
   "source": [
    "# SCRAPE THE PRICES\n",
    "curr_price =[]\n",
    "for container in price_container:\n",
    "    try:\n",
    "        curr_price.append(container.strong.get_text() + container.sup.get_text())\n",
    "    except:\n",
    "        curr_price.append('NA')"
   ]
  },
  {
   "cell_type": "code",
   "execution_count": 23,
   "metadata": {},
   "outputs": [
    {
     "data": {
      "text/plain": [
       "['88.99',\n",
       " '199.99',\n",
       " '214.99',\n",
       " '219.99',\n",
       " '399.99',\n",
       " '435.99',\n",
       " '84.99',\n",
       " '734.99',\n",
       " '899.99',\n",
       " '355.19',\n",
       " '129.27',\n",
       " '29.99',\n",
       " '484.99',\n",
       " '378.99',\n",
       " '685.99',\n",
       " '179.99',\n",
       " '1,249.99',\n",
       " '38.84',\n",
       " '435.97',\n",
       " '689.99',\n",
       " '246.99',\n",
       " '569.99',\n",
       " 'NA',\n",
       " '709.99',\n",
       " '772.99',\n",
       " '50.65',\n",
       " '739.00',\n",
       " '889.99',\n",
       " '595.99',\n",
       " '569.99',\n",
       " '234.86',\n",
       " '699.99',\n",
       " '1,479.99',\n",
       " '384.20',\n",
       " '1,479.99',\n",
       " '84.49',\n",
       " '889.48']"
      ]
     },
     "execution_count": 23,
     "metadata": {},
     "output_type": "execute_result"
    }
   ],
   "source": [
    "curr_price"
   ]
  },
  {
   "cell_type": "code",
   "execution_count": 24,
   "metadata": {},
   "outputs": [
    {
     "name": "stdout",
     "output_type": "stream",
     "text": [
      "37 37 37\n"
     ]
    }
   ],
   "source": [
    "print(len(product_name), len(curr_price), len(shipping_price))"
   ]
  },
  {
   "cell_type": "code",
   "execution_count": 25,
   "metadata": {},
   "outputs": [],
   "source": [
    "# Importing library \n",
    "import csv "
   ]
  },
  {
   "cell_type": "code",
   "execution_count": 26,
   "metadata": {
    "scrolled": true
   },
   "outputs": [
    {
     "data": {
      "text/plain": [
       "<zip at 0x1d46fa2f688>"
      ]
     },
     "execution_count": 26,
     "metadata": {},
     "output_type": "execute_result"
    }
   ],
   "source": [
    "rows = zip(product_name, curr_price, shipping_price) #parallel iteration\n",
    "rows"
   ]
  },
  {
   "cell_type": "code",
   "execution_count": 27,
   "metadata": {},
   "outputs": [],
   "source": [
    "with open(\"awesome_tech.csv\", \"w\") as f:\n",
    "    writer = csv.writer(f)\n",
    "    for row in rows:\n",
    "        writer.writerow(row)"
   ]
  },
  {
   "cell_type": "code",
   "execution_count": 28,
   "metadata": {},
   "outputs": [],
   "source": [
    "f.close()"
   ]
  }
 ],
 "metadata": {
  "kernelspec": {
   "display_name": "Python 3",
   "language": "python",
   "name": "python3"
  },
  "language_info": {
   "codemirror_mode": {
    "name": "ipython",
    "version": 3
   },
   "file_extension": ".py",
   "mimetype": "text/x-python",
   "name": "python",
   "nbconvert_exporter": "python",
   "pygments_lexer": "ipython3",
   "version": "3.7.4"
  }
 },
 "nbformat": 4,
 "nbformat_minor": 2
}
